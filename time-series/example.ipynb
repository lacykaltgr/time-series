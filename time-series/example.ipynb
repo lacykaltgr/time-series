{
 "cells": [
  {
   "cell_type": "code",
   "execution_count": 1,
   "metadata": {
    "collapsed": true
   },
   "outputs": [],
   "source": [
    "import ncps.torch as ncps\n",
    "from ncps.torch import CfC\n",
    "import torch"
   ]
  },
  {
   "cell_type": "code",
   "execution_count": 34,
   "outputs": [
    {
     "name": "stdout",
     "output_type": "stream",
     "text": [
      "alloc!\n"
     ]
    }
   ],
   "source": [
    "from ncps.torch import CfC, LTC\n",
    "from ncps.wirings import FullyConnected, AutoNCP\n",
    "\n",
    "wiring = FullyConnected(10, 7)# 28 neurons, 4 outputs\n",
    "input_size = 20\n",
    "rnn = LTC(input_size, wiring)"
   ],
   "metadata": {
    "collapsed": false
   }
  },
  {
   "cell_type": "code",
   "execution_count": 28,
   "outputs": [
    {
     "data": {
      "text/plain": "LTCCell(\n  (make_positive_fn): Softplus(beta=1, threshold=20)\n  (_clip): ReLU()\n)"
     },
     "execution_count": 28,
     "metadata": {},
     "output_type": "execute_result"
    }
   ],
   "source": [
    "rnn.rnn_cell"
   ],
   "metadata": {
    "collapsed": false
   }
  },
  {
   "cell_type": "code",
   "execution_count": 29,
   "outputs": [
    {
     "name": "stdout",
     "output_type": "stream",
     "text": [
      "torch.Size([2])\n",
      "torch.Size([2])\n",
      "torch.Size([2])\n",
      "torch.Size([2, 2])\n",
      "torch.Size([2, 2])\n",
      "torch.Size([2, 2])\n",
      "torch.Size([2, 2])\n",
      "torch.Size([20, 2])\n",
      "torch.Size([20, 2])\n",
      "torch.Size([20, 2])\n",
      "torch.Size([20, 2])\n",
      "torch.Size([2, 2])\n",
      "torch.Size([20, 2])\n",
      "torch.Size([20])\n",
      "torch.Size([20])\n",
      "torch.Size([7])\n",
      "torch.Size([7])\n"
     ]
    }
   ],
   "source": [
    "for param in rnn.parameters():\n",
    "    print(param.shape)\n",
    "\n",
    "    \"\"\"\n",
    "    input size : 20\n",
    "    n neurons : 2\n",
    "    output size : 7\n",
    "\n",
    "torch.Size([2]) gleak\n",
    "torch.Size([2]) vleak\n",
    "torch.Size([2]) cm\n",
    "torch.Size([2, 2]) mu\n",
    "torch.Size([2, 2]) sigma\n",
    "torch.Size([2, 2]) w\n",
    "torch.Size([2, 2]) erev\n",
    "torch.Size([20, 2]) sensory sigma\n",
    "torch.Size([20, 2]) sensory mu\n",
    "torch.Size([20, 2]) sensory w\n",
    "torch.Size([20, 2]) sensory erev\n",
    "torch.Size([2, 2]) sparsity mask\n",
    "torch.Size([20, 2]) sensory sparsity mask\n",
    "torch.Size([20]) input mapping w\n",
    "torch.Size([20]) input mapping b\n",
    "torch.Size([7]) output mapping w\n",
    "torch.Size([7]) output mapping b\n",
    "\n",
    "    \"\"\""
   ],
   "metadata": {
    "collapsed": false
   }
  },
  {
   "cell_type": "code",
   "execution_count": 35,
   "outputs": [
    {
     "name": "stdout",
     "output_type": "stream",
     "text": [
      "torch.Size([10, 30])\n",
      "torch.Size([10, 30])\n",
      "torch.Size([10])\n",
      "torch.Size([10, 30])\n",
      "torch.Size([10])\n",
      "torch.Size([10, 30])\n",
      "torch.Size([10])\n",
      "torch.Size([10, 30])\n",
      "torch.Size([10])\n"
     ]
    }
   ],
   "source": [
    "rnn = CfC(input_size, wiring)\n",
    "rnn.rnn_cell\n",
    "for param in rnn.parameters():\n",
    "    print(param.shape)"
   ],
   "metadata": {
    "collapsed": false
   }
  },
  {
   "cell_type": "code",
   "execution_count": 36,
   "outputs": [
    {
     "data": {
      "text/plain": "CfC(\n  (rnn_cell): WiredCfCCell(\n    (layer_0): CfCCell(\n      (tanh): Tanh()\n      (sigmoid): Sigmoid()\n      (ff1): Linear(in_features=30, out_features=10, bias=True)\n      (ff2): Linear(in_features=30, out_features=10, bias=True)\n      (time_a): Linear(in_features=30, out_features=10, bias=True)\n      (time_b): Linear(in_features=30, out_features=10, bias=True)\n    )\n  )\n  (fc): Identity()\n)"
     },
     "execution_count": 36,
     "metadata": {},
     "output_type": "execute_result"
    }
   ],
   "source": [
    "rnn"
   ],
   "metadata": {
    "collapsed": false
   }
  },
  {
   "cell_type": "code",
   "execution_count": 43,
   "outputs": [
    {
     "name": "stdout",
     "output_type": "stream",
     "text": [
      "torch.Size([3, 20])\n",
      "torch.Size([3, 3])\n",
      "torch.Size([3])\n",
      "torch.Size([3])\n"
     ]
    }
   ],
   "source": [
    "rnn = torch.nn.RNN(20, 3)\n",
    "for param in rnn.parameters():\n",
    "    print(param.shape)"
   ],
   "metadata": {
    "collapsed": false
   }
  },
  {
   "cell_type": "code",
   "execution_count": null,
   "outputs": [],
   "source": [
    "x = torch.randn(2, 3, 20) # (batch, time, features)\n",
    "h0 = torch.zeros(2,50) # (batch, units)\n",
    "output, hn = rnn(x,h0)"
   ],
   "metadata": {
    "collapsed": false
   }
  }
 ],
 "metadata": {
  "kernelspec": {
   "display_name": "Python 3",
   "language": "python",
   "name": "python3"
  },
  "language_info": {
   "codemirror_mode": {
    "name": "ipython",
    "version": 2
   },
   "file_extension": ".py",
   "mimetype": "text/x-python",
   "name": "python",
   "nbconvert_exporter": "python",
   "pygments_lexer": "ipython2",
   "version": "2.7.6"
  }
 },
 "nbformat": 4,
 "nbformat_minor": 0
}
